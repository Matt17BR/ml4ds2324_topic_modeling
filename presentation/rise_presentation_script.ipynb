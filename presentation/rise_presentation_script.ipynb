{
 "cells": [
  {
   "cell_type": "code",
   "execution_count": 2,
   "metadata": {},
   "outputs": [],
   "source": [
    "import nbformat\n",
    "\n",
    "# Load the notebook\n",
    "notebook_path = 'merged_1_32.ipynb'\n",
    "with open(notebook_path, 'r') as f:\n",
    "    nb = nbformat.read(f, as_version=4)\n",
    "\n",
    "# Function to set slide type based on cell type and level\n",
    "def set_slide_type(cell):\n",
    "    if cell['cell_type'] == 'markdown':\n",
    "        if cell['source'].startswith('## '):\n",
    "            return 'slide'\n",
    "        elif cell['source'].startswith('### '):\n",
    "            return 'slide'\n",
    "        elif cell['source'].startswith('#### '):\n",
    "            return 'slide'\n",
    "    elif cell['cell_type'] == 'code':\n",
    "        return 'fragment'\n",
    "    return None\n",
    "\n",
    "# Apply the slide type settings\n",
    "for cell in nb['cells']:\n",
    "    slide_type = set_slide_type(cell)\n",
    "    if slide_type:\n",
    "        if 'metadata' not in cell:\n",
    "            cell['metadata'] = {}\n",
    "        if 'slideshow' not in cell['metadata']:\n",
    "            cell['metadata']['slideshow'] = {}\n",
    "        cell['metadata']['slideshow']['slide_type'] = slide_type\n",
    "\n",
    "# Save the modified notebook\n",
    "modified_notebook_path = 'merged_1_32_slides.ipynb'\n",
    "with open(modified_notebook_path, 'w') as f:\n",
    "    nbformat.write(nb, f)"
   ]
  }
 ],
 "metadata": {
  "kernelspec": {
   "display_name": "Python 3",
   "language": "python",
   "name": "python3"
  },
  "language_info": {
   "codemirror_mode": {
    "name": "ipython",
    "version": 3
   },
   "file_extension": ".py",
   "mimetype": "text/x-python",
   "name": "python",
   "nbconvert_exporter": "python",
   "pygments_lexer": "ipython3",
   "version": "3.11.6"
  }
 },
 "nbformat": 4,
 "nbformat_minor": 2
}
