{
 "cells": [
  {
   "cell_type": "markdown",
   "metadata": {},
   "source": [
    "Searching Pubmed's database for papers by using the most common topics found by topic modeling"
   ]
  },
  {
   "cell_type": "code",
   "execution_count": 90,
   "metadata": {},
   "outputs": [
    {
     "data": {
      "text/html": [
       "<div>\n",
       "<style scoped>\n",
       "    .dataframe tbody tr th:only-of-type {\n",
       "        vertical-align: middle;\n",
       "    }\n",
       "\n",
       "    .dataframe tbody tr th {\n",
       "        vertical-align: top;\n",
       "    }\n",
       "\n",
       "    .dataframe thead th {\n",
       "        text-align: right;\n",
       "    }\n",
       "</style>\n",
       "<table border=\"1\" class=\"dataframe\">\n",
       "  <thead>\n",
       "    <tr style=\"text-align: right;\">\n",
       "      <th></th>\n",
       "      <th>String</th>\n",
       "      <th>Frequency</th>\n",
       "    </tr>\n",
       "  </thead>\n",
       "  <tbody>\n",
       "    <tr>\n",
       "      <th>0</th>\n",
       "      <td>team</td>\n",
       "      <td>47</td>\n",
       "    </tr>\n",
       "    <tr>\n",
       "      <th>1</th>\n",
       "      <td>use</td>\n",
       "      <td>38</td>\n",
       "    </tr>\n",
       "    <tr>\n",
       "      <th>2</th>\n",
       "      <td>performance</td>\n",
       "      <td>33</td>\n",
       "    </tr>\n",
       "    <tr>\n",
       "      <th>3</th>\n",
       "      <td>base</td>\n",
       "      <td>30</td>\n",
       "    </tr>\n",
       "    <tr>\n",
       "      <th>4</th>\n",
       "      <td>data</td>\n",
       "      <td>29</td>\n",
       "    </tr>\n",
       "    <tr>\n",
       "      <th>...</th>\n",
       "      <td>...</td>\n",
       "      <td>...</td>\n",
       "    </tr>\n",
       "    <tr>\n",
       "      <th>68</th>\n",
       "      <td>146a 5p</td>\n",
       "      <td>5</td>\n",
       "    </tr>\n",
       "    <tr>\n",
       "      <th>69</th>\n",
       "      <td>team performance indicators</td>\n",
       "      <td>10</td>\n",
       "    </tr>\n",
       "    <tr>\n",
       "      <th>70</th>\n",
       "      <td>artificial neural network</td>\n",
       "      <td>5</td>\n",
       "    </tr>\n",
       "    <tr>\n",
       "      <th>71</th>\n",
       "      <td>support vector machine</td>\n",
       "      <td>5</td>\n",
       "    </tr>\n",
       "    <tr>\n",
       "      <th>72</th>\n",
       "      <td>mir 146a 5p</td>\n",
       "      <td>5</td>\n",
       "    </tr>\n",
       "  </tbody>\n",
       "</table>\n",
       "<p>73 rows × 2 columns</p>\n",
       "</div>"
      ],
      "text/plain": [
       "                         String  Frequency\n",
       "0                          team         47\n",
       "1                           use         38\n",
       "2                   performance         33\n",
       "3                          base         30\n",
       "4                          data         29\n",
       "..                          ...        ...\n",
       "68                      146a 5p          5\n",
       "69  team performance indicators         10\n",
       "70    artificial neural network          5\n",
       "71       support vector machine          5\n",
       "72                  mir 146a 5p          5\n",
       "\n",
       "[73 rows x 2 columns]"
      ]
     },
     "execution_count": 90,
     "metadata": {},
     "output_type": "execute_result"
    }
   ],
   "source": [
    "import pandas as pd\n",
    "import os\n",
    "\n",
    "# Loading the CSV file with common strings\n",
    "strings = pd.read_csv(os.path.join('..','results','common_strings.csv'))\n",
    "strings"
   ]
  },
  {
   "cell_type": "markdown",
   "metadata": {},
   "source": [
    "Subset dataset by only retaining keywords of interest"
   ]
  },
  {
   "cell_type": "code",
   "execution_count": 91,
   "metadata": {},
   "outputs": [
    {
     "data": {
      "text/html": [
       "<div>\n",
       "<style scoped>\n",
       "    .dataframe tbody tr th:only-of-type {\n",
       "        vertical-align: middle;\n",
       "    }\n",
       "\n",
       "    .dataframe tbody tr th {\n",
       "        vertical-align: top;\n",
       "    }\n",
       "\n",
       "    .dataframe thead th {\n",
       "        text-align: right;\n",
       "    }\n",
       "</style>\n",
       "<table border=\"1\" class=\"dataframe\">\n",
       "  <thead>\n",
       "    <tr style=\"text-align: right;\">\n",
       "      <th></th>\n",
       "      <th>String</th>\n",
       "      <th>Frequency</th>\n",
       "    </tr>\n",
       "  </thead>\n",
       "  <tbody>\n",
       "    <tr>\n",
       "      <th>2</th>\n",
       "      <td>performance</td>\n",
       "      <td>33</td>\n",
       "    </tr>\n",
       "    <tr>\n",
       "      <th>8</th>\n",
       "      <td>football</td>\n",
       "      <td>22</td>\n",
       "    </tr>\n",
       "    <tr>\n",
       "      <th>10</th>\n",
       "      <td>classification</td>\n",
       "      <td>20</td>\n",
       "    </tr>\n",
       "    <tr>\n",
       "      <th>14</th>\n",
       "      <td>injury</td>\n",
       "      <td>19</td>\n",
       "    </tr>\n",
       "    <tr>\n",
       "      <th>15</th>\n",
       "      <td>basketball</td>\n",
       "      <td>19</td>\n",
       "    </tr>\n",
       "  </tbody>\n",
       "</table>\n",
       "</div>"
      ],
      "text/plain": [
       "            String  Frequency\n",
       "2      performance         33\n",
       "8         football         22\n",
       "10  classification         20\n",
       "14          injury         19\n",
       "15      basketball         19"
      ]
     },
     "execution_count": 91,
     "metadata": {},
     "output_type": "execute_result"
    }
   ],
   "source": [
    "# Subset dataset by only retaining keywords with more than 4 letters that contain no numbers\n",
    "\n",
    "strings = strings[strings['String'].apply(lambda x: len(x) > 4 and not any(char.isdigit() for char in x))]\n",
    "\n",
    "# Remove some keywords we deem too generic manually\n",
    "\n",
    "# List of strings to remove\n",
    "strings_to_remove = [\"model\", \"train\", \"study\", \"match\", \"turnover\", \"professional\", \"player\",\n",
    "                     \"method\", \"analysis\", \"indicator\", \"accuracy\", \"outcome\", \"classify\", \"classifier\",\n",
    "                     \"approach\", \"decision\", \"provide\", \"position\", \"different\", \"network\",\n",
    "                     \"machine\", \"learning\", \"feature\", \"prediction\", \"logistic\", \"neural\"]\n",
    "\n",
    "# Further subsetting the DataFrame by removing specified entries\n",
    "strings = strings[~strings['String'].isin(strings_to_remove)]\n",
    "strings.head()"
   ]
  },
  {
   "cell_type": "markdown",
   "metadata": {},
   "source": [
    "Add a column that categorizes each keyword (ML/statistics related, sports related, injury or performance related)"
   ]
  },
  {
   "cell_type": "code",
   "execution_count": 92,
   "metadata": {},
   "outputs": [
    {
     "data": {
      "text/html": [
       "<div>\n",
       "<style scoped>\n",
       "    .dataframe tbody tr th:only-of-type {\n",
       "        vertical-align: middle;\n",
       "    }\n",
       "\n",
       "    .dataframe tbody tr th {\n",
       "        vertical-align: top;\n",
       "    }\n",
       "\n",
       "    .dataframe thead th {\n",
       "        text-align: right;\n",
       "    }\n",
       "</style>\n",
       "<table border=\"1\" class=\"dataframe\">\n",
       "  <thead>\n",
       "    <tr style=\"text-align: right;\">\n",
       "      <th></th>\n",
       "      <th>String</th>\n",
       "      <th>Frequency</th>\n",
       "      <th>Category</th>\n",
       "    </tr>\n",
       "  </thead>\n",
       "  <tbody>\n",
       "    <tr>\n",
       "      <th>2</th>\n",
       "      <td>performance</td>\n",
       "      <td>33</td>\n",
       "      <td>Injury/Performance</td>\n",
       "    </tr>\n",
       "    <tr>\n",
       "      <th>8</th>\n",
       "      <td>football</td>\n",
       "      <td>22</td>\n",
       "      <td>Sports</td>\n",
       "    </tr>\n",
       "    <tr>\n",
       "      <th>10</th>\n",
       "      <td>classification</td>\n",
       "      <td>20</td>\n",
       "      <td>ML/Statistics</td>\n",
       "    </tr>\n",
       "    <tr>\n",
       "      <th>14</th>\n",
       "      <td>injury</td>\n",
       "      <td>19</td>\n",
       "      <td>Injury/Performance</td>\n",
       "    </tr>\n",
       "    <tr>\n",
       "      <th>15</th>\n",
       "      <td>basketball</td>\n",
       "      <td>19</td>\n",
       "      <td>Sports</td>\n",
       "    </tr>\n",
       "  </tbody>\n",
       "</table>\n",
       "</div>"
      ],
      "text/plain": [
       "            String  Frequency            Category\n",
       "2      performance         33  Injury/Performance\n",
       "8         football         22              Sports\n",
       "10  classification         20       ML/Statistics\n",
       "14          injury         19  Injury/Performance\n",
       "15      basketball         19              Sports"
      ]
     },
     "execution_count": 92,
     "metadata": {},
     "output_type": "execute_result"
    }
   ],
   "source": [
    "# Keywords for categorization\n",
    "ml_statistics_keywords = [\"classification\", \"regression\", \"decision tree\", \n",
    "                          \"vector machine\", \"neural network\", \"machine learning\", \"data mining\", \n",
    "                          \"artificial neural\", \"neural networks\", \"support vector\", \"classification accuracy\", \n",
    "                          \"artificial neural network\", \"support vector machine\", \"non linear\"]\n",
    "sports_keywords = [\"football\", \"basketball\", \"athlete\", \"ball possession\",\n",
    "                   \"olympic\", \"sport\", \"soccer\", \"team performance\", \"match outcome\", \"individual ball\",\n",
    "                   \"olympic games\", \"australian football\", \"team performance indicators\"]\n",
    "injury_performance_keywords = [\"injury\", \"performance\", \"training\", \"ground reaction\", \"training load\", \"performance indicators\"]\n",
    "\n",
    "# Function to categorize strings\n",
    "def categorize_string(s):\n",
    "    if any(keyword in s for keyword in ml_statistics_keywords):\n",
    "        return \"ML/Statistics\"\n",
    "    elif any(keyword in s for keyword in sports_keywords):\n",
    "        return \"Sports\"\n",
    "    elif any(keyword in s for keyword in injury_performance_keywords):\n",
    "        return \"Injury/Performance\"\n",
    "    else:\n",
    "        return \"Other\"\n",
    "\n",
    "# Apply the function to create a new column\n",
    "strings['Category'] = strings['String'].apply(categorize_string)\n",
    "strings.head()"
   ]
  },
  {
   "cell_type": "markdown",
   "metadata": {},
   "source": [
    "Construct the search command"
   ]
  },
  {
   "cell_type": "code",
   "execution_count": 93,
   "metadata": {},
   "outputs": [
    {
     "data": {
      "text/plain": [
       "'(\"performance\" OR \"injury\" OR \"training\" OR \"performance indicators\" OR \"ground reaction\" OR \"training load\") AND (\"classification\" OR \"regression\" OR \"neural network\" OR \"machine learning\" OR \"data mining\" OR \"artificial neural\" OR \"neural networks\" OR \"logistic regression\" OR \"decision tree\" OR \"support vector\" OR \"non linear\" OR \"classification accuracy\" OR \"vector machine\" OR \"artificial neural network\" OR \"support vector machine\") AND (\"football\" OR \"basketball\" OR \"athlete\" OR \"olympic\" OR \"sport\" OR \"soccer\" OR \"team performance\" OR \"match outcome\" OR \"olympic games\" OR \"ball possession\" OR \"individual ball\" OR \"australian football\" OR \"team performance indicators\")'"
      ]
     },
     "execution_count": 93,
     "metadata": {},
     "output_type": "execute_result"
    }
   ],
   "source": [
    "# Grouping the strings by category and constructing the search query\n",
    "search_query = ' AND '.join(strings.groupby('Category')['String'].apply(lambda x: '(\"' + '\" OR \"'.join(x) + '\")'))\n",
    "search_query"
   ]
  },
  {
   "cell_type": "markdown",
   "metadata": {},
   "source": [
    "Search on Pubmed and show results"
   ]
  },
  {
   "cell_type": "code",
   "execution_count": 111,
   "metadata": {},
   "outputs": [
    {
     "data": {
      "text/html": [
       "<div>\n",
       "<style scoped>\n",
       "    .dataframe tbody tr th:only-of-type {\n",
       "        vertical-align: middle;\n",
       "    }\n",
       "\n",
       "    .dataframe tbody tr th {\n",
       "        vertical-align: top;\n",
       "    }\n",
       "\n",
       "    .dataframe thead th {\n",
       "        text-align: right;\n",
       "    }\n",
       "</style>\n",
       "<table border=\"1\" class=\"dataframe\">\n",
       "  <thead>\n",
       "    <tr style=\"text-align: right;\">\n",
       "      <th></th>\n",
       "      <th>Author</th>\n",
       "      <th>Title</th>\n",
       "    </tr>\n",
       "  </thead>\n",
       "  <tbody>\n",
       "    <tr>\n",
       "      <th>0</th>\n",
       "      <td>Opar DA, Williams MD, Timmins RG, Hickey J, Du...</td>\n",
       "      <td>Eccentric hamstring strength and hamstring inj...</td>\n",
       "    </tr>\n",
       "    <tr>\n",
       "      <th>1</th>\n",
       "      <td>Fuller CW, Ekstrand J, Junge A, Andersen TE, B...</td>\n",
       "      <td>Consensus statement on injury definitions and ...</td>\n",
       "    </tr>\n",
       "    <tr>\n",
       "      <th>2</th>\n",
       "      <td>Hölmich P</td>\n",
       "      <td>Groin injuries in athletes--development of cli...</td>\n",
       "    </tr>\n",
       "    <tr>\n",
       "      <th>3</th>\n",
       "      <td>Hägglund M, Waldén M</td>\n",
       "      <td>Risk factors for acute knee injury in female y...</td>\n",
       "    </tr>\n",
       "    <tr>\n",
       "      <th>4</th>\n",
       "      <td>Hewett TE, Myer GD, Ford KR, Heidt RS, Colosim...</td>\n",
       "      <td>Biomechanical measures of neuromuscular contro...</td>\n",
       "    </tr>\n",
       "  </tbody>\n",
       "</table>\n",
       "</div>"
      ],
      "text/plain": [
       "                                              Author  \\\n",
       "0  Opar DA, Williams MD, Timmins RG, Hickey J, Du...   \n",
       "1  Fuller CW, Ekstrand J, Junge A, Andersen TE, B...   \n",
       "2                                          Hölmich P   \n",
       "3                               Hägglund M, Waldén M   \n",
       "4  Hewett TE, Myer GD, Ford KR, Heidt RS, Colosim...   \n",
       "\n",
       "                                               Title  \n",
       "0  Eccentric hamstring strength and hamstring inj...  \n",
       "1  Consensus statement on injury definitions and ...  \n",
       "2  Groin injuries in athletes--development of cli...  \n",
       "3  Risk factors for acute knee injury in female y...  \n",
       "4  Biomechanical measures of neuromuscular contro...  "
      ]
     },
     "execution_count": 111,
     "metadata": {},
     "output_type": "execute_result"
    }
   ],
   "source": [
    "from Bio import Entrez\n",
    "\n",
    "def fetch_from_pubmed(query, email):\n",
    "    # The Pubmed API requires an email to be used\n",
    "    Entrez.email = email\n",
    "    # Set how the search should be performed\n",
    "    handle = Entrez.esearch(db='pubmed',sort='relevance', term=query,\n",
    "    # Set how many results to return (we do not expect more than 10000 or so based on the paper results)\n",
    "    retmax='10000', retmode='xml',\n",
    "    # Just like the paper, only search up to May 2018\n",
    "    mindate='1900/01', maxdate='2018/05')\n",
    "    results = Entrez.read(Entrez.efetch(db='pubmed', retmode='xml',\n",
    "                                        id=Entrez.read(handle)['IdList']))\n",
    "    return results\n",
    "\n",
    "mazza = 'matteo.mazzarelli@gmail.com'    \n",
    "\n",
    "paper_ids = fetch_from_pubmed(search_query, mazza)\n",
    "\n",
    "author_list = []\n",
    "title_list = []\n",
    "\n",
    "for i, paper in enumerate(paper_ids['PubmedArticle']):\n",
    "    authors = paper['MedlineCitation']['Article']['AuthorList']\n",
    "    author_names = []\n",
    "    for author in authors:\n",
    "        # Some authors might not have a LastName or Initial, handle these cases\n",
    "        last_name = author.get('LastName', '')\n",
    "        initials = author.get('Initials', '')\n",
    "        author_names.append(f\"{last_name} {initials}\".strip())\n",
    "\n",
    "    # Join all authors' names with commas\n",
    "    all_authors = ', '.join(author_names)\n",
    "    author_list.append(all_authors)\n",
    "\n",
    "    title_list.append(paper['MedlineCitation']['Article']['ArticleTitle'])\n",
    "\n",
    "# Create a pandas df with the results\n",
    "searched_papers = pd.DataFrame(list(zip(author_list, title_list)),\n",
    "                               columns=['Author', 'Title'])\n",
    "\n",
    "searched_papers.head()"
   ]
  },
  {
   "cell_type": "markdown",
   "metadata": {},
   "source": [
    "Compare papers found with papers in the references list"
   ]
  },
  {
   "cell_type": "code",
   "execution_count": 112,
   "metadata": {},
   "outputs": [
    {
     "data": {
      "text/html": [
       "<div>\n",
       "<style scoped>\n",
       "    .dataframe tbody tr th:only-of-type {\n",
       "        vertical-align: middle;\n",
       "    }\n",
       "\n",
       "    .dataframe tbody tr th {\n",
       "        vertical-align: top;\n",
       "    }\n",
       "\n",
       "    .dataframe thead th {\n",
       "        text-align: right;\n",
       "    }\n",
       "</style>\n",
       "<table border=\"1\" class=\"dataframe\">\n",
       "  <thead>\n",
       "    <tr style=\"text-align: right;\">\n",
       "      <th></th>\n",
       "      <th>Author</th>\n",
       "      <th>Title</th>\n",
       "    </tr>\n",
       "  </thead>\n",
       "  <tbody>\n",
       "  </tbody>\n",
       "</table>\n",
       "</div>"
      ],
      "text/plain": [
       "Empty DataFrame\n",
       "Columns: [Author, Title]\n",
       "Index: []"
      ]
     },
     "execution_count": 112,
     "metadata": {},
     "output_type": "execute_result"
    }
   ],
   "source": [
    "# Loading the CSV file containg authors and titles of the 58 papers used in the systematic review\n",
    "sys_references = pd.read_csv(os.path.join('..','results','paper_refs.csv'))\n",
    "\n",
    "# Check how many papers intersect between the 2 datasets (perform inner join)\n",
    "common_papers = pd.merge(sys_references, searched_papers, how='inner')\n",
    "common_papers.head()"
   ]
  }
 ],
 "metadata": {
  "kernelspec": {
   "display_name": "Python 3",
   "language": "python",
   "name": "python3"
  },
  "language_info": {
   "codemirror_mode": {
    "name": "ipython",
    "version": 3
   },
   "file_extension": ".py",
   "mimetype": "text/x-python",
   "name": "python",
   "nbconvert_exporter": "python",
   "pygments_lexer": "ipython3",
   "version": "3.11.6"
  }
 },
 "nbformat": 4,
 "nbformat_minor": 2
}
