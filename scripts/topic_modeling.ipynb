{
 "cells": [
  {
   "cell_type": "code",
   "execution_count": 1,
   "metadata": {},
   "outputs": [
    {
     "data": {
      "text/html": [
       "<div>\n",
       "<style scoped>\n",
       "    .dataframe tbody tr th:only-of-type {\n",
       "        vertical-align: middle;\n",
       "    }\n",
       "\n",
       "    .dataframe tbody tr th {\n",
       "        vertical-align: top;\n",
       "    }\n",
       "\n",
       "    .dataframe thead th {\n",
       "        text-align: right;\n",
       "    }\n",
       "</style>\n",
       "<table border=\"1\" class=\"dataframe\">\n",
       "  <thead>\n",
       "    <tr style=\"text-align: right;\">\n",
       "      <th></th>\n",
       "      <th>Author</th>\n",
       "      <th>Title</th>\n",
       "    </tr>\n",
       "  </thead>\n",
       "  <tbody>\n",
       "    <tr>\n",
       "      <th>0</th>\n",
       "      <td>Russell S, Norvig P</td>\n",
       "      <td>Artificial Intelligence: a modern approach</td>\n",
       "    </tr>\n",
       "    <tr>\n",
       "      <th>1</th>\n",
       "      <td>Witten IH, Frank E, Hall MA, et al</td>\n",
       "      <td>Data Mining: practical Machine Learning tools ...</td>\n",
       "    </tr>\n",
       "    <tr>\n",
       "      <th>2</th>\n",
       "      <td>Zaki MJ, Meira Jr, W</td>\n",
       "      <td>Data Mining and analysis: fundamental concepts...</td>\n",
       "    </tr>\n",
       "    <tr>\n",
       "      <th>3</th>\n",
       "      <td>Passfield L, Hopker JG</td>\n",
       "      <td>A mine of information: can sports analytics pr...</td>\n",
       "    </tr>\n",
       "    <tr>\n",
       "      <th>4</th>\n",
       "      <td>Rein R, Memmert D</td>\n",
       "      <td>Big data and tactical analysis in elite soccer...</td>\n",
       "    </tr>\n",
       "    <tr>\n",
       "      <th>...</th>\n",
       "      <td>...</td>\n",
       "      <td>...</td>\n",
       "    </tr>\n",
       "    <tr>\n",
       "      <th>98</th>\n",
       "      <td>Dalton-Barron NE, McLaren SJ, Black CJ, et al</td>\n",
       "      <td>Identifying contextual influences on training ...</td>\n",
       "    </tr>\n",
       "    <tr>\n",
       "      <th>99</th>\n",
       "      <td>McLaren SJ, Weston M, Smith A, et al</td>\n",
       "      <td>Variability of physical performance and player...</td>\n",
       "    </tr>\n",
       "    <tr>\n",
       "      <th>100</th>\n",
       "      <td>Oliveira WK, Jesus K, Andrade AD, et al</td>\n",
       "      <td>Monitoring training load in beach volleyball p...</td>\n",
       "    </tr>\n",
       "    <tr>\n",
       "      <th>101</th>\n",
       "      <td>Düking P, Achtzehn S, Holmberg HC, Sperlich B</td>\n",
       "      <td>Integrated framework of load monitoring by a c...</td>\n",
       "    </tr>\n",
       "    <tr>\n",
       "      <th>102</th>\n",
       "      <td>Austen K</td>\n",
       "      <td>What could derail the wearables revolution? Na...</td>\n",
       "    </tr>\n",
       "  </tbody>\n",
       "</table>\n",
       "<p>103 rows × 2 columns</p>\n",
       "</div>"
      ],
      "text/plain": [
       "                                            Author  \\\n",
       "0                              Russell S, Norvig P   \n",
       "1               Witten IH, Frank E, Hall MA, et al   \n",
       "2                             Zaki MJ, Meira Jr, W   \n",
       "3                           Passfield L, Hopker JG   \n",
       "4                                Rein R, Memmert D   \n",
       "..                                             ...   \n",
       "98   Dalton-Barron NE, McLaren SJ, Black CJ, et al   \n",
       "99            McLaren SJ, Weston M, Smith A, et al   \n",
       "100        Oliveira WK, Jesus K, Andrade AD, et al   \n",
       "101  Düking P, Achtzehn S, Holmberg HC, Sperlich B   \n",
       "102                                       Austen K   \n",
       "\n",
       "                                                 Title  \n",
       "0           Artificial Intelligence: a modern approach  \n",
       "1    Data Mining: practical Machine Learning tools ...  \n",
       "2    Data Mining and analysis: fundamental concepts...  \n",
       "3    A mine of information: can sports analytics pr...  \n",
       "4    Big data and tactical analysis in elite soccer...  \n",
       "..                                                 ...  \n",
       "98   Identifying contextual influences on training ...  \n",
       "99   Variability of physical performance and player...  \n",
       "100  Monitoring training load in beach volleyball p...  \n",
       "101  Integrated framework of load monitoring by a c...  \n",
       "102  What could derail the wearables revolution? Na...  \n",
       "\n",
       "[103 rows x 2 columns]"
      ]
     },
     "execution_count": 1,
     "metadata": {},
     "output_type": "execute_result"
    }
   ],
   "source": [
    "import os\n",
    "import pandas as pd\n",
    "import re\n",
    "from pypdf import PdfReader\n",
    "\n",
    "# Function to extract references from a PDF file using a context-aware pattern\n",
    "def parse_references(pdf_path):\n",
    "    reader = PdfReader(pdf_path)\n",
    "    refs = []\n",
    "    ref_section = False # Use as a flag to find the references section\n",
    "    last_ref_num = 0 # To track the last reference number\n",
    "\n",
    "    for page in reader.pages:\n",
    "        # Extract text on a page by page basis\n",
    "        text = page.extract_text()\n",
    "        # When the \"References\" bit is found, cut out the text preceding it\n",
    "        if \"References\" in text:\n",
    "            ref_section = True\n",
    "            text = text.split(\"References\", 1)[1]\n",
    "        if ref_section:\n",
    "            # Find all matches of reference pattern\n",
    "            for match in re.finditer(r'(\\d+)\\. (.*?\\..*?)\\.', text, re.DOTALL):\n",
    "                current_ref_num = int(match.group(1))\n",
    "                # Append reference if the current reference number is sequential\n",
    "                if current_ref_num == last_ref_num + 1:\n",
    "                    refs.append(match.group(2))\n",
    "                    last_ref_num = current_ref_num\n",
    "    # Use dot as column separator for Author and Title (as in the PDF)\n",
    "    references = pd.DataFrame(refs)[0].str.split('.', n=1, expand=True)\n",
    "    references.columns = ['Author', 'Title']\n",
    "    # Replace newline characters with space and strip leading whitespace\n",
    "    return references.applymap(lambda x: x.replace('\\n', ' ').strip())\n",
    "\n",
    "pdf = os.path.join('..','paper','s40798-019-0202-3.pdf')\n",
    "\n",
    "# Extract references using the context-aware pattern from the uploaded PDF file\n",
    "references = parse_references(pdf)\n",
    "\n",
    "references.to_csv(os.path.join('..','results','paper_refs.csv'), index=False)\n",
    "\n",
    "references"
   ]
  },
  {
   "cell_type": "code",
   "execution_count": 2,
   "metadata": {},
   "outputs": [
    {
     "name": "stderr",
     "output_type": "stream",
     "text": [
      "[nltk_data] Downloading package stopwords to\n",
      "[nltk_data]     /Users/sonayavrumyan/nltk_data...\n",
      "[nltk_data]   Package stopwords is already up-to-date!\n"
     ]
    },
    {
     "data": {
      "text/plain": [
       "True"
      ]
     },
     "execution_count": 2,
     "metadata": {},
     "output_type": "execute_result"
    }
   ],
   "source": [
    "#Using the nltk package for topic modeling\n",
    "import nltk\n",
    "nltk.download('stopwords')\n"
   ]
  },
  {
   "cell_type": "code",
   "execution_count": 3,
   "metadata": {},
   "outputs": [
    {
     "name": "stdout",
     "output_type": "stream",
     "text": [
      "[('football', 17), ('neural', 17), ('data', 16), ('training', 16), ('based', 16), ('team', 16), ('performance', 15), ('basketball', 14), ('artificial', 13), ('sports', 13), ('analysis', 12), ('network', 11), ('using', 10), ('injury', 10), ('mining', 9)]\n"
     ]
    }
   ],
   "source": [
    "from nltk.corpus import stopwords\n",
    "from collections import Counter\n",
    "import string\n",
    "\n",
    "# function for cleaning and preprocessing the titles\n",
    "def preprocess_titles(titles):\n",
    "    prepositions = set([\n",
    "        # ... (list all prepositions here) ...\n",
    "    ])\n",
    "    stop_words = set(stopwords.words('english')).union(prepositions)\n",
    "\n",
    "    cleaned_titles = []\n",
    "    for title in titles:\n",
    "        words = title.lower().translate(str.maketrans('', '', string.punctuation)).split()\n",
    "        words = [word for word in words if word not in stop_words]\n",
    "        cleaned_titles.extend(words)\n",
    "\n",
    "    return cleaned_titles\n",
    "\n",
    "#Applying topic modeling and showing the 15 most common words and their repetition frequency\n",
    "cleaned_titles = preprocess_titles(references['Title'])\n",
    "word_counts = Counter(cleaned_titles)\n",
    "most_common_words = word_counts.most_common(15)\n",
    "\n",
    "print(most_common_words)\n"
   ]
  }
 ],
 "metadata": {
  "kernelspec": {
   "display_name": "base",
   "language": "python",
   "name": "python3"
  },
  "language_info": {
   "codemirror_mode": {
    "name": "ipython",
    "version": 3
   },
   "file_extension": ".py",
   "mimetype": "text/x-python",
   "name": "python",
   "nbconvert_exporter": "python",
   "pygments_lexer": "ipython3",
   "version": "3.11.4"
  }
 },
 "nbformat": 4,
 "nbformat_minor": 2
}
