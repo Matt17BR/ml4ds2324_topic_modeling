{
 "cells": [
  {
   "cell_type": "markdown",
   "metadata": {},
   "source": [
    "Topic modeling with title only"
   ]
  },
  {
   "cell_type": "code",
   "execution_count": 1,
   "metadata": {},
   "outputs": [
    {
     "data": {
      "text/html": [
       "<div>\n",
       "<style scoped>\n",
       "    .dataframe tbody tr th:only-of-type {\n",
       "        vertical-align: middle;\n",
       "    }\n",
       "\n",
       "    .dataframe tbody tr th {\n",
       "        vertical-align: top;\n",
       "    }\n",
       "\n",
       "    .dataframe thead th {\n",
       "        text-align: right;\n",
       "    }\n",
       "</style>\n",
       "<table border=\"1\" class=\"dataframe\">\n",
       "  <thead>\n",
       "    <tr style=\"text-align: right;\">\n",
       "      <th></th>\n",
       "      <th>Author</th>\n",
       "      <th>Title</th>\n",
       "    </tr>\n",
       "  </thead>\n",
       "  <tbody>\n",
       "    <tr>\n",
       "      <th>0</th>\n",
       "      <td>Russell S, Norvig P</td>\n",
       "      <td>Artificial Intelligence: a modern approach</td>\n",
       "    </tr>\n",
       "    <tr>\n",
       "      <th>1</th>\n",
       "      <td>Witten IH, Frank E, Hall MA, et al</td>\n",
       "      <td>Data Mining: practical Machine Learning tools ...</td>\n",
       "    </tr>\n",
       "    <tr>\n",
       "      <th>2</th>\n",
       "      <td>Zaki MJ, Meira Jr, W</td>\n",
       "      <td>Data Mining and analysis: fundamental concepts...</td>\n",
       "    </tr>\n",
       "    <tr>\n",
       "      <th>3</th>\n",
       "      <td>Passfield L, Hopker JG</td>\n",
       "      <td>A mine of information: can sports analytics pr...</td>\n",
       "    </tr>\n",
       "    <tr>\n",
       "      <th>4</th>\n",
       "      <td>Rein R, Memmert D</td>\n",
       "      <td>Big data and tactical analysis in elite soccer...</td>\n",
       "    </tr>\n",
       "    <tr>\n",
       "      <th>...</th>\n",
       "      <td>...</td>\n",
       "      <td>...</td>\n",
       "    </tr>\n",
       "    <tr>\n",
       "      <th>98</th>\n",
       "      <td>Dalton-Barron NE, McLaren SJ, Black CJ, et al</td>\n",
       "      <td>Identifying contextual influences on training ...</td>\n",
       "    </tr>\n",
       "    <tr>\n",
       "      <th>99</th>\n",
       "      <td>McLaren SJ, Weston M, Smith A, et al</td>\n",
       "      <td>Variability of physical performance and player...</td>\n",
       "    </tr>\n",
       "    <tr>\n",
       "      <th>100</th>\n",
       "      <td>Oliveira WK, Jesus K, Andrade AD, et al</td>\n",
       "      <td>Monitoring training load in beach volleyball p...</td>\n",
       "    </tr>\n",
       "    <tr>\n",
       "      <th>101</th>\n",
       "      <td>Düking P, Achtzehn S, Holmberg HC, Sperlich B</td>\n",
       "      <td>Integrated framework of load monitoring by a c...</td>\n",
       "    </tr>\n",
       "    <tr>\n",
       "      <th>102</th>\n",
       "      <td>Austen K</td>\n",
       "      <td>What could derail the wearables revolution? Na...</td>\n",
       "    </tr>\n",
       "  </tbody>\n",
       "</table>\n",
       "<p>103 rows × 2 columns</p>\n",
       "</div>"
      ],
      "text/plain": [
       "                                            Author  \\\n",
       "0                              Russell S, Norvig P   \n",
       "1               Witten IH, Frank E, Hall MA, et al   \n",
       "2                             Zaki MJ, Meira Jr, W   \n",
       "3                           Passfield L, Hopker JG   \n",
       "4                                Rein R, Memmert D   \n",
       "..                                             ...   \n",
       "98   Dalton-Barron NE, McLaren SJ, Black CJ, et al   \n",
       "99            McLaren SJ, Weston M, Smith A, et al   \n",
       "100        Oliveira WK, Jesus K, Andrade AD, et al   \n",
       "101  Düking P, Achtzehn S, Holmberg HC, Sperlich B   \n",
       "102                                       Austen K   \n",
       "\n",
       "                                                 Title  \n",
       "0           Artificial Intelligence: a modern approach  \n",
       "1    Data Mining: practical Machine Learning tools ...  \n",
       "2    Data Mining and analysis: fundamental concepts...  \n",
       "3    A mine of information: can sports analytics pr...  \n",
       "4    Big data and tactical analysis in elite soccer...  \n",
       "..                                                 ...  \n",
       "98   Identifying contextual influences on training ...  \n",
       "99   Variability of physical performance and player...  \n",
       "100  Monitoring training load in beach volleyball p...  \n",
       "101  Integrated framework of load monitoring by a c...  \n",
       "102  What could derail the wearables revolution? Na...  \n",
       "\n",
       "[103 rows x 2 columns]"
      ]
     },
     "execution_count": 1,
     "metadata": {},
     "output_type": "execute_result"
    }
   ],
   "source": [
    "import pandas as pd\n",
    "import os\n",
    "\n",
    "references = pd.read_csv(os.path.join('..','results','paper_refs.csv'))\n",
    "\n",
    "references"
   ]
  },
  {
   "cell_type": "code",
   "execution_count": 2,
   "metadata": {},
   "outputs": [
    {
     "name": "stderr",
     "output_type": "stream",
     "text": [
      "[nltk_data] Downloading package stopwords to\n",
      "[nltk_data]     /Users/sonayavrumyan/nltk_data...\n",
      "[nltk_data]   Package stopwords is already up-to-date!\n"
     ]
    },
    {
     "data": {
      "text/plain": [
       "True"
      ]
     },
     "execution_count": 2,
     "metadata": {},
     "output_type": "execute_result"
    }
   ],
   "source": [
    "#Using the nltk package for topic modeling\n",
    "import nltk\n",
    "nltk.download('stopwords')"
   ]
  },
  {
   "cell_type": "code",
   "execution_count": 4,
   "metadata": {},
   "outputs": [
    {
     "name": "stdout",
     "output_type": "stream",
     "text": [
      "[('football', 17), ('neural', 17), ('data', 16), ('training', 16), ('based', 16), ('team', 16), ('performance', 15), ('basketball', 14), ('artificial', 13), ('sports', 13), ('analysis', 12), ('network', 11), ('using', 10), ('injury', 10), ('mining', 9)]\n"
     ]
    }
   ],
   "source": [
    "from nltk.corpus import stopwords\n",
    "from collections import Counter\n",
    "import string\n",
    "\n",
    "#Function for cleaning and preprocessing the titles\n",
    "def preprocess_titles(titles):\n",
    "    prepositions = set([\n",
    "        # ... (list all prepositions here) ...\n",
    "    ])\n",
    "    stop_words = set(stopwords.words('english')).union(prepositions)\n",
    "\n",
    "    cleaned_titles = []\n",
    "    for title in titles:\n",
    "        words = title.lower().translate(str.maketrans('', '', string.punctuation)).split()\n",
    "        words = [word for word in words if word not in stop_words]\n",
    "        cleaned_titles.extend(words)\n",
    "\n",
    "    return cleaned_titles\n",
    "\n",
    "#Applying topic modeling and printing the 15 most common words and their repetition frequency\n",
    "cleaned_titles = preprocess_titles(references['Title'])\n",
    "word_counts = Counter(cleaned_titles)\n",
    "most_common_words = word_counts.most_common(15)\n",
    "\n",
    "print(most_common_words)"
   ]
  },
  {
   "cell_type": "markdown",
   "metadata": {},
   "source": [
    "Topic modeling with title and abstract"
   ]
  },
  {
   "cell_type": "code",
   "execution_count": 3,
   "metadata": {},
   "outputs": [
    {
     "data": {
      "text/html": [
       "<div>\n",
       "<style scoped>\n",
       "    .dataframe tbody tr th:only-of-type {\n",
       "        vertical-align: middle;\n",
       "    }\n",
       "\n",
       "    .dataframe tbody tr th {\n",
       "        vertical-align: top;\n",
       "    }\n",
       "\n",
       "    .dataframe thead th {\n",
       "        text-align: right;\n",
       "    }\n",
       "</style>\n",
       "<table border=\"1\" class=\"dataframe\">\n",
       "  <thead>\n",
       "    <tr style=\"text-align: right;\">\n",
       "      <th></th>\n",
       "      <th>Author</th>\n",
       "      <th>Title</th>\n",
       "      <th>Abstract</th>\n",
       "      <th>Year</th>\n",
       "    </tr>\n",
       "  </thead>\n",
       "  <tbody>\n",
       "    <tr>\n",
       "      <th>0</th>\n",
       "      <td>Russell S, Norvig P</td>\n",
       "      <td>Artificial Intelligence: a modern approach</td>\n",
       "      <td>From the enraged robots in the 1920 play R.U.R...</td>\n",
       "      <td>2015.0</td>\n",
       "    </tr>\n",
       "    <tr>\n",
       "      <th>1</th>\n",
       "      <td>Witten IH, Frank E, Hall MA, et al</td>\n",
       "      <td>Data Mining: practical Machine Learning tools ...</td>\n",
       "      <td>NaN</td>\n",
       "      <td>NaN</td>\n",
       "    </tr>\n",
       "    <tr>\n",
       "      <th>2</th>\n",
       "      <td>Zaki MJ, Meira Jr, W</td>\n",
       "      <td>Data Mining and analysis: fundamental concepts...</td>\n",
       "      <td>NaN</td>\n",
       "      <td>NaN</td>\n",
       "    </tr>\n",
       "    <tr>\n",
       "      <th>3</th>\n",
       "      <td>Passfield L, Hopker JG</td>\n",
       "      <td>A mine of information: can sports analytics pr...</td>\n",
       "      <td>This paper explores the notion that the availa...</td>\n",
       "      <td>2017.0</td>\n",
       "    </tr>\n",
       "    <tr>\n",
       "      <th>4</th>\n",
       "      <td>Rein R, Memmert D</td>\n",
       "      <td>Big data and tactical analysis in elite soccer...</td>\n",
       "      <td>Until recently tactical analysis in elite socc...</td>\n",
       "      <td>2016.0</td>\n",
       "    </tr>\n",
       "    <tr>\n",
       "      <th>...</th>\n",
       "      <td>...</td>\n",
       "      <td>...</td>\n",
       "      <td>...</td>\n",
       "      <td>...</td>\n",
       "    </tr>\n",
       "    <tr>\n",
       "      <th>98</th>\n",
       "      <td>Dalton-Barron NE, McLaren SJ, Black CJ, et al</td>\n",
       "      <td>Identifying contextual influences on training ...</td>\n",
       "      <td>Dalton-Barron, NE, McLaren, SJ, Black, CJ, Gra...</td>\n",
       "      <td>2021.0</td>\n",
       "    </tr>\n",
       "    <tr>\n",
       "      <th>99</th>\n",
       "      <td>McLaren SJ, Weston M, Smith A, et al</td>\n",
       "      <td>Variability of physical performance and player...</td>\n",
       "      <td>The aims of this study were to establish sourc...</td>\n",
       "      <td>2021.0</td>\n",
       "    </tr>\n",
       "    <tr>\n",
       "      <th>100</th>\n",
       "      <td>Oliveira WK, Jesus K, Andrade AD, et al</td>\n",
       "      <td>Monitoring training load in beach volleyball p...</td>\n",
       "      <td>NaN</td>\n",
       "      <td>NaN</td>\n",
       "    </tr>\n",
       "    <tr>\n",
       "      <th>101</th>\n",
       "      <td>Düking P, Achtzehn S, Holmberg HC, Sperlich B</td>\n",
       "      <td>Integrated framework of load monitoring by a c...</td>\n",
       "      <td>Athletes schedule their training and recovery ...</td>\n",
       "      <td>2018.0</td>\n",
       "    </tr>\n",
       "    <tr>\n",
       "      <th>102</th>\n",
       "      <td>Austen K</td>\n",
       "      <td>What could derail the wearables revolution? Na...</td>\n",
       "      <td>NaN</td>\n",
       "      <td>2015.0</td>\n",
       "    </tr>\n",
       "  </tbody>\n",
       "</table>\n",
       "<p>103 rows × 4 columns</p>\n",
       "</div>"
      ],
      "text/plain": [
       "                                            Author  \\\n",
       "0                              Russell S, Norvig P   \n",
       "1               Witten IH, Frank E, Hall MA, et al   \n",
       "2                             Zaki MJ, Meira Jr, W   \n",
       "3                           Passfield L, Hopker JG   \n",
       "4                                Rein R, Memmert D   \n",
       "..                                             ...   \n",
       "98   Dalton-Barron NE, McLaren SJ, Black CJ, et al   \n",
       "99            McLaren SJ, Weston M, Smith A, et al   \n",
       "100        Oliveira WK, Jesus K, Andrade AD, et al   \n",
       "101  Düking P, Achtzehn S, Holmberg HC, Sperlich B   \n",
       "102                                       Austen K   \n",
       "\n",
       "                                                 Title  \\\n",
       "0           Artificial Intelligence: a modern approach   \n",
       "1    Data Mining: practical Machine Learning tools ...   \n",
       "2    Data Mining and analysis: fundamental concepts...   \n",
       "3    A mine of information: can sports analytics pr...   \n",
       "4    Big data and tactical analysis in elite soccer...   \n",
       "..                                                 ...   \n",
       "98   Identifying contextual influences on training ...   \n",
       "99   Variability of physical performance and player...   \n",
       "100  Monitoring training load in beach volleyball p...   \n",
       "101  Integrated framework of load monitoring by a c...   \n",
       "102  What could derail the wearables revolution? Na...   \n",
       "\n",
       "                                              Abstract    Year  \n",
       "0    From the enraged robots in the 1920 play R.U.R...  2015.0  \n",
       "1                                                  NaN     NaN  \n",
       "2                                                  NaN     NaN  \n",
       "3    This paper explores the notion that the availa...  2017.0  \n",
       "4    Until recently tactical analysis in elite socc...  2016.0  \n",
       "..                                                 ...     ...  \n",
       "98   Dalton-Barron, NE, McLaren, SJ, Black, CJ, Gra...  2021.0  \n",
       "99   The aims of this study were to establish sourc...  2021.0  \n",
       "100                                                NaN     NaN  \n",
       "101  Athletes schedule their training and recovery ...  2018.0  \n",
       "102                                                NaN  2015.0  \n",
       "\n",
       "[103 rows x 4 columns]"
      ]
     },
     "execution_count": 3,
     "metadata": {},
     "output_type": "execute_result"
    }
   ],
   "source": [
    "ref_abs = pd.read_csv(os.path.join('..','results','paper_refs_abstracts.csv'))\n",
    "\n",
    "ref_abs"
   ]
  },
  {
   "cell_type": "markdown",
   "metadata": {},
   "source": [
    "Most Common words in Abstract "
   ]
  },
  {
   "cell_type": "code",
   "execution_count": 19,
   "metadata": {},
   "outputs": [
    {
     "name": "stdout",
     "output_type": "stream",
     "text": [
      "[('data', 66), ('training', 51), ('team', 50), ('performance', 50), ('match', 31), ('risk', 26), ('injury', 26), ('players', 26), ('used', 25), ('sports', 24), ('based', 23), ('study', 22), ('classification', 22), ('may', 21), ('decision', 21)]\n"
     ]
    }
   ],
   "source": [
    "def preprocess_text(texts):\n",
    "    prepositions = set([\n",
    "        # ... (list all prepositions here) ...\n",
    "    ])\n",
    "    stop_words = set(stopwords.words('english')).union(prepositions)\n",
    "\n",
    "    cleaned_texts = []\n",
    "    for text in texts:\n",
    "        if isinstance(text, str):\n",
    "            # Replace hyphens and slashes with spaces, then split the text into words\n",
    "            words = text.lower().translate(str.maketrans('-/', '  ')).split()\n",
    "            # Split on other punctuations and filter out stop words\n",
    "            words = [word for part in words for word in part.translate(str.maketrans('', '', string.punctuation)).split() if word not in stop_words]\n",
    "            cleaned_texts.extend(words)\n",
    "\n",
    "    return cleaned_texts\n",
    "\n",
    "cleaned_abstracts = preprocess_text(ref_abs['Abstract'])\n",
    "word_counts = Counter(cleaned_abstracts)\n",
    "most_common_words = word_counts.most_common(15)\n",
    "\n",
    "print(most_common_words)\n"
   ]
  },
  {
   "cell_type": "markdown",
   "metadata": {},
   "source": [
    "Most Common Words in Abstract reduced to their root (Stemming)"
   ]
  },
  {
   "cell_type": "code",
   "execution_count": 21,
   "metadata": {},
   "outputs": [
    {
     "name": "stdout",
     "output_type": "stream",
     "text": [
      "[('data', 66), ('perform', 62), ('train', 60)]\n"
     ]
    }
   ],
   "source": [
    "from nltk.stem import PorterStemmer\n",
    "\n",
    "def preprocess_text(texts):\n",
    "    prepositions = set([\n",
    "        # ... (list all prepositions here) ...\n",
    "    ])\n",
    "    stop_words = set(stopwords.words('english')).union(prepositions)\n",
    "    stemmer = PorterStemmer()\n",
    "\n",
    "    cleaned_texts = []\n",
    "    for text in texts:\n",
    "        if isinstance(text, str):\n",
    "            # Replace hyphens and slashes with spaces\n",
    "            words = text.lower().translate(str.maketrans('-/', '  ')).split()\n",
    "            words = [word for part in words for word in part.translate(str.maketrans('', '', string.punctuation)).split() if word not in stop_words]\n",
    "            stemmed_words = [stemmer.stem(word) for word in words]\n",
    "            cleaned_texts.extend(stemmed_words)\n",
    "\n",
    "    return cleaned_texts\n",
    "\n",
    "cleaned_abstracts = preprocess_text(ref_abs['Abstract'])\n",
    "word_counts = Counter(cleaned_abstracts)\n",
    "most_common_words = word_counts.most_common(3)\n",
    "\n",
    "print(most_common_words)\n"
   ]
  },
  {
   "cell_type": "markdown",
   "metadata": {},
   "source": [
    "Most Common word in Abstract reduced to their root defined word (Lematization)"
   ]
  },
  {
   "cell_type": "code",
   "execution_count": 16,
   "metadata": {},
   "outputs": [
    {
     "name": "stderr",
     "output_type": "stream",
     "text": [
      "[nltk_data] Downloading package averaged_perceptron_tagger to\n",
      "[nltk_data]     /Users/sonayavrumyan/nltk_data...\n",
      "[nltk_data]   Unzipping taggers/averaged_perceptron_tagger.zip.\n",
      "[nltk_data] Downloading package wordnet to\n",
      "[nltk_data]     /Users/sonayavrumyan/nltk_data...\n"
     ]
    },
    {
     "data": {
      "text/plain": [
       "True"
      ]
     },
     "execution_count": 16,
     "metadata": {},
     "output_type": "execute_result"
    }
   ],
   "source": [
    "import nltk\n",
    "\n",
    "nltk.download('averaged_perceptron_tagger')\n",
    "nltk.download('wordnet')\n"
   ]
  },
  {
   "cell_type": "code",
   "execution_count": 20,
   "metadata": {},
   "outputs": [
    {
     "name": "stdout",
     "output_type": "stream",
     "text": [
      "[('data', 66), ('team', 58), ('use', 51)]\n"
     ]
    }
   ],
   "source": [
    "from nltk.stem import WordNetLemmatizer\n",
    "from nltk.corpus import wordnet\n",
    "\n",
    "def get_wordnet_pos(word):\n",
    "    \"\"\"Map POS tag to the first character lemmatize() accepts\"\"\"\n",
    "    tag = nltk.pos_tag([word])[0][1][0].upper()\n",
    "    tag_dict = {\"J\": wordnet.ADJ,\n",
    "                \"N\": wordnet.NOUN,\n",
    "                \"V\": wordnet.VERB,\n",
    "                \"R\": wordnet.ADV}\n",
    "    return tag_dict.get(tag, wordnet.NOUN)\n",
    "\n",
    "def preprocess_text(texts):\n",
    "    prepositions = set([\n",
    "        # ... (list all prepositions here) ...\n",
    "    ])\n",
    "    stop_words = set(stopwords.words('english')).union(prepositions)\n",
    "    lemmatizer = WordNetLemmatizer()\n",
    "\n",
    "    cleaned_texts = []\n",
    "    for text in texts:\n",
    "        if isinstance(text, str):\n",
    "            # Replace hyphens and slashes with spaces\n",
    "            words = text.lower().translate(str.maketrans('-/', '  ')).split()\n",
    "            words = [word for part in words for word in part.translate(str.maketrans('', '', string.punctuation)).split() if word not in stop_words]\n",
    "            lem_words = [lemmatizer.lemmatize(word, get_wordnet_pos(word)) for word in words]\n",
    "            cleaned_texts.extend(lem_words)\n",
    "\n",
    "    return cleaned_texts\n",
    "\n",
    "cleaned_abstracts = preprocess_text(ref_abs['Abstract'])\n",
    "word_counts = Counter(cleaned_abstracts)\n",
    "most_common_words = word_counts.most_common(3)\n",
    "\n",
    "print(most_common_words)\n"
   ]
  }
 ],
 "metadata": {
  "kernelspec": {
   "display_name": "base",
   "language": "python",
   "name": "python3"
  },
  "language_info": {
   "codemirror_mode": {
    "name": "ipython",
    "version": 3
   },
   "file_extension": ".py",
   "mimetype": "text/x-python",
   "name": "python",
   "nbconvert_exporter": "python",
   "pygments_lexer": "ipython3",
   "version": "3.11.4"
  }
 },
 "nbformat": 4,
 "nbformat_minor": 2
}
