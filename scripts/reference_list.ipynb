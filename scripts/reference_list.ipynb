{
 "cells": [
  {
   "cell_type": "code",
   "execution_count": 13,
   "metadata": {},
   "outputs": [
    {
     "ename": "TypeError",
     "evalue": "'numpy.int64' object is not callable",
     "output_type": "error",
     "traceback": [
      "\u001b[0;31m---------------------------------------------------------------------------\u001b[0m",
      "\u001b[0;31mTypeError\u001b[0m                                 Traceback (most recent call last)",
      "Cell \u001b[0;32mIn[13], line 47\u001b[0m\n\u001b[1;32m     45\u001b[0m references_df \u001b[38;5;241m=\u001b[39m parse_references(references)\n\u001b[1;32m     46\u001b[0m \u001b[38;5;66;03m# Display the first few rows to check correctness\u001b[39;00m\n\u001b[0;32m---> 47\u001b[0m \u001b[43mreferences_df\u001b[49m\u001b[38;5;241;43m.\u001b[39;49m\u001b[43msize\u001b[49m\u001b[43m(\u001b[49m\u001b[43m)\u001b[49m\n",
      "\u001b[0;31mTypeError\u001b[0m: 'numpy.int64' object is not callable"
     ]
    }
   ],
   "source": [
    "import os\n",
    "import pandas as pd\n",
    "import re\n",
    "from pypdf import PdfReader\n",
    "\n",
    "# Define the path to the PDF file\n",
    "pdf = os.path.join('..','paper','s40798-019-0202-3.pdf')\n",
    "\n",
    "# Function to extract text that also contains references from a PDF file\n",
    "def extract_references(pdf_path):\n",
    "    reader = PdfReader(pdf_path)\n",
    "    references = []\n",
    "    in_references_section = False\n",
    "    for page in reader.pages:\n",
    "        text = page.extract_text()\n",
    "        if \"References\" in text:\n",
    "            in_references_section = True\n",
    "        if in_references_section:\n",
    "            references.append(text)\n",
    "    \n",
    "    return references\n",
    "\n",
    "# Extract references from the PDF\n",
    "references = extract_references(pdf)\n",
    "references[:5]"
   ]
  },
  {
   "cell_type": "code",
   "execution_count": null,
   "metadata": {},
   "outputs": [],
   "source": [
    "# Function to parse references into a structured format\n",
    "def parse_references(ref_list):\n",
    "    # Regular expression to match the common format of references\n",
    "    ref_pattern = re.compile(r\"(\\d+\\. )(.+?)\\. (.+?\\.) (.+)\")\n",
    "    data = []\n",
    "\n",
    "    for ref in ref_list:\n",
    "        # Find all matches of the reference pattern\n",
    "        matches = ref_pattern.findall(ref)\n",
    "        for match in matches:\n",
    "            _, authors, title, rest = match\n",
    "            data.append([authors, title, rest])\n",
    "\n",
    "    # Create a DataFrame\n",
    "    df = pd.DataFrame(data, columns=[\"Author\", \"Title\", \"Rest\"])\n",
    "    return df\n",
    "\n",
    "# Parse the references into a DataFrame\n",
    "references_df = parse_references(references)\n",
    "# Display the first few rows to check correctness"
   ]
  },
  {
   "cell_type": "code",
   "execution_count": 20,
   "metadata": {},
   "outputs": [
    {
     "data": {
      "text/html": [
       "<div>\n",
       "<style scoped>\n",
       "    .dataframe tbody tr th:only-of-type {\n",
       "        vertical-align: middle;\n",
       "    }\n",
       "\n",
       "    .dataframe tbody tr th {\n",
       "        vertical-align: top;\n",
       "    }\n",
       "\n",
       "    .dataframe thead th {\n",
       "        text-align: right;\n",
       "    }\n",
       "</style>\n",
       "<table border=\"1\" class=\"dataframe\">\n",
       "  <thead>\n",
       "    <tr style=\"text-align: right;\">\n",
       "      <th></th>\n",
       "      <th>Reference Number</th>\n",
       "      <th>Reference Text</th>\n",
       "    </tr>\n",
       "  </thead>\n",
       "  <tbody>\n",
       "    <tr>\n",
       "      <th>0</th>\n",
       "      <td>1</td>\n",
       "      <td>Russell S, Norvig P. Artificial Intelligence: ...</td>\n",
       "    </tr>\n",
       "    <tr>\n",
       "      <th>1</th>\n",
       "      <td>2</td>\n",
       "      <td>Witten IH, Frank E, Hall MA, et al. Data Minin...</td>\n",
       "    </tr>\n",
       "    <tr>\n",
       "      <th>2</th>\n",
       "      <td>3</td>\n",
       "      <td>Zaki MJ, Meira Jr, W. Data Mining and analysis...</td>\n",
       "    </tr>\n",
       "    <tr>\n",
       "      <th>3</th>\n",
       "      <td>4</td>\n",
       "      <td>Passfield L, Hopker JG. A mine of information:...</td>\n",
       "    </tr>\n",
       "    <tr>\n",
       "      <th>4</th>\n",
       "      <td>5</td>\n",
       "      <td>Rein R, Memmert D. Big data and tactical analy...</td>\n",
       "    </tr>\n",
       "  </tbody>\n",
       "</table>\n",
       "</div>"
      ],
      "text/plain": [
       "  Reference Number                                     Reference Text\n",
       "0                1  Russell S, Norvig P. Artificial Intelligence: ...\n",
       "1                2  Witten IH, Frank E, Hall MA, et al. Data Minin...\n",
       "2                3  Zaki MJ, Meira Jr, W. Data Mining and analysis...\n",
       "3                4  Passfield L, Hopker JG. A mine of information:...\n",
       "4                5  Rein R, Memmert D. Big data and tactical analy..."
      ]
     },
     "execution_count": 20,
     "metadata": {},
     "output_type": "execute_result"
    }
   ],
   "source": [
    "# Function to extract references from a PDF file\n",
    "# Updating the pattern to account for the possibility of newline characters (\\n) in place of spaces\n",
    "# and adjusting the function accordingly\n",
    "\n",
    "# Updated regex pattern: \n",
    "# The pattern now accounts for newline characters and spaces between the number and the first dot, \n",
    "# and between the two dots in the text.\n",
    "# Updated function to extract references from a PDF file and match the specific pattern\n",
    "def extract_references_with_pattern(pdf_path, pattern):\n",
    "    reader = PdfReader(pdf_path)\n",
    "    references = []\n",
    "    in_references_section = False\n",
    "    for page in reader.pages:\n",
    "        text = page.extract_text()\n",
    "        if \"References\" in text:\n",
    "            in_references_section = True\n",
    "        if in_references_section:\n",
    "            # Find all matches of the specified pattern\n",
    "            matches = re.findall(pattern, text, re.DOTALL)\n",
    "            references.extend(matches)\n",
    "    \n",
    "    return references\n",
    "# Define the pattern: \\n, number, dot, text, dot, text, dot\n",
    "pattern = r'\\n(\\d+)\\. (.*?\\..*?)\\.'\n",
    "\n",
    "# Extract references with the pattern\n",
    "extracted_references = extract_references_with_pattern(pdf, pattern)\n",
    "\n",
    "# Convert the list of references to a DataFrame\n",
    "df_references = pd.DataFrame(extracted_references, columns=['Reference Number', 'Reference Text'])\n",
    "\n",
    "df_references\n"
   ]
  }
 ],
 "metadata": {
  "kernelspec": {
   "display_name": "Python 3",
   "language": "python",
   "name": "python3"
  },
  "language_info": {
   "codemirror_mode": {
    "name": "ipython",
    "version": 3
   },
   "file_extension": ".py",
   "mimetype": "text/x-python",
   "name": "python",
   "nbconvert_exporter": "python",
   "pygments_lexer": "ipython3",
   "version": "3.11.6"
  }
 },
 "nbformat": 4,
 "nbformat_minor": 2
}
